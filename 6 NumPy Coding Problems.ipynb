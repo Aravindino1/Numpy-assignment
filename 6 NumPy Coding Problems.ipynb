{
 "cells": [
  {
   "cell_type": "markdown",
   "id": "f3e68367",
   "metadata": {},
   "source": [
    "# 6 NumPy Coding Problems"
   ]
  },
  {
   "cell_type": "code",
   "execution_count": 1,
   "id": "b4f4da52",
   "metadata": {},
   "outputs": [],
   "source": [
    "import numpy as np"
   ]
  },
  {
   "cell_type": "code",
   "execution_count": null,
   "id": "defd451c",
   "metadata": {},
   "outputs": [],
   "source": [
    "#1 Create a null vector of size 10 but the fifth value which is 1."
   ]
  },
  {
   "cell_type": "code",
   "execution_count": 2,
   "id": "277254af",
   "metadata": {},
   "outputs": [
    {
     "data": {
      "text/plain": [
       "array([0., 0., 0., 0., 1., 0., 0., 0., 0., 0.])"
      ]
     },
     "execution_count": 2,
     "metadata": {},
     "output_type": "execute_result"
    }
   ],
   "source": [
    "a=np.zeros(10)\n",
    "a[4]=1\n",
    "a"
   ]
  },
  {
   "cell_type": "code",
   "execution_count": 3,
   "id": "c7cceab2",
   "metadata": {},
   "outputs": [],
   "source": [
    "#2. Create a vector with values ranging from 10 to 49"
   ]
  },
  {
   "cell_type": "code",
   "execution_count": 5,
   "id": "5cac5237",
   "metadata": {},
   "outputs": [],
   "source": [
    "b=np.arange(10,50)"
   ]
  },
  {
   "cell_type": "code",
   "execution_count": 6,
   "id": "0e11da06",
   "metadata": {},
   "outputs": [
    {
     "data": {
      "text/plain": [
       "array([10, 11, 12, 13, 14, 15, 16, 17, 18, 19, 20, 21, 22, 23, 24, 25, 26,\n",
       "       27, 28, 29, 30, 31, 32, 33, 34, 35, 36, 37, 38, 39, 40, 41, 42, 43,\n",
       "       44, 45, 46, 47, 48, 49])"
      ]
     },
     "execution_count": 6,
     "metadata": {},
     "output_type": "execute_result"
    }
   ],
   "source": [
    "b"
   ]
  },
  {
   "cell_type": "code",
   "execution_count": 7,
   "id": "4ea2f578",
   "metadata": {},
   "outputs": [],
   "source": [
    "#3. Create a 3x3 matrix with values ranging from 0 to 8"
   ]
  },
  {
   "cell_type": "code",
   "execution_count": 8,
   "id": "88aa1cba",
   "metadata": {},
   "outputs": [
    {
     "data": {
      "text/plain": [
       "array([[0, 1, 2],\n",
       "       [3, 4, 5],\n",
       "       [6, 7, 8]])"
      ]
     },
     "execution_count": 8,
     "metadata": {},
     "output_type": "execute_result"
    }
   ],
   "source": [
    "c= np.arange(0,9).reshape(3, 3)\n",
    "c"
   ]
  },
  {
   "cell_type": "code",
   "execution_count": null,
   "id": "04c0d1b0",
   "metadata": {},
   "outputs": [],
   "source": [
    "#4. Find indices of non-zero elements from [1,2,0,0,4,0]"
   ]
  },
  {
   "cell_type": "code",
   "execution_count": 9,
   "id": "d6c91d1b",
   "metadata": {},
   "outputs": [
    {
     "name": "stdout",
     "output_type": "stream",
     "text": [
      "[0, 1, 4]\n"
     ]
    }
   ],
   "source": [
    "d = [1,2,0,0,4,0]\n",
    "d_new = []\n",
    "for i in range(len(d)):\n",
    "    if d[i]!=0:\n",
    "        d_new.append(i)\n",
    "print(d_new)"
   ]
  },
  {
   "cell_type": "code",
   "execution_count": 24,
   "id": "111e4cbe",
   "metadata": {},
   "outputs": [],
   "source": [
    "#5. Create a 10x10 array with random values and find the minimum and maximum values.\n",
    "e = np.random.random((10,10))"
   ]
  },
  {
   "cell_type": "code",
   "execution_count": 20,
   "id": "c6e4afcb",
   "metadata": {},
   "outputs": [
    {
     "data": {
      "text/plain": [
       "array([[1.07035428e-01, 3.02556495e-01, 8.10471637e-01, 6.96566019e-01,\n",
       "        8.96373917e-02, 3.69580329e-01, 1.49544218e-01, 9.75591675e-01,\n",
       "        3.81622948e-01, 2.45841779e-01],\n",
       "       [2.81132570e-01, 2.98420005e-02, 4.88116553e-01, 7.87367861e-01,\n",
       "        4.29896466e-01, 5.99367984e-04, 4.40720332e-01, 3.76800150e-01,\n",
       "        2.86589198e-01, 7.54875183e-01],\n",
       "       [5.72945849e-01, 1.66102930e-01, 4.11050213e-01, 7.10059362e-01,\n",
       "        5.59537491e-01, 2.75044991e-01, 4.22226309e-01, 3.83787496e-01,\n",
       "        6.80737870e-01, 2.34666011e-01],\n",
       "       [7.25387164e-01, 5.31328335e-01, 7.88167165e-01, 1.03209531e-01,\n",
       "        8.11149272e-01, 9.65625365e-01, 3.62123988e-01, 5.55440507e-01,\n",
       "        9.90403100e-01, 3.08599509e-01],\n",
       "       [6.84134770e-01, 1.10795193e-01, 9.32057908e-02, 1.95397949e-01,\n",
       "        2.17017819e-01, 3.66837180e-01, 7.91474715e-01, 6.10628249e-02,\n",
       "        2.25075057e-01, 3.03037074e-01],\n",
       "       [9.38493752e-01, 1.59876769e-01, 7.56349820e-01, 8.40192224e-01,\n",
       "        7.91314253e-01, 2.54965134e-01, 9.42721251e-01, 3.24069408e-01,\n",
       "        9.89732721e-01, 5.78861971e-01],\n",
       "       [6.58548897e-01, 8.58442201e-01, 8.38510574e-01, 3.61031215e-01,\n",
       "        4.73708784e-01, 7.14711617e-01, 9.04576175e-01, 9.63441540e-01,\n",
       "        6.98476368e-01, 4.43867447e-01],\n",
       "       [1.96835875e-01, 6.55121012e-01, 7.66230312e-01, 9.71857169e-02,\n",
       "        4.92960988e-01, 2.24915796e-01, 2.23574322e-01, 4.56643275e-01,\n",
       "        1.15731361e-01, 4.76497121e-01],\n",
       "       [7.21426061e-01, 9.81419172e-01, 7.03575881e-01, 3.79640870e-02,\n",
       "        9.09733191e-01, 9.20766906e-01, 5.10832628e-01, 4.37445627e-01,\n",
       "        9.85078498e-01, 5.60513905e-01],\n",
       "       [9.88427237e-01, 2.00382168e-03, 5.29782581e-01, 1.53831020e-02,\n",
       "        6.41838593e-01, 6.33713934e-01, 3.91839631e-01, 7.74446215e-01,\n",
       "        2.66531185e-01, 8.29195233e-01]])"
      ]
     },
     "execution_count": 20,
     "metadata": {},
     "output_type": "execute_result"
    }
   ],
   "source": [
    "e"
   ]
  },
  {
   "cell_type": "code",
   "execution_count": 21,
   "id": "5f368024",
   "metadata": {},
   "outputs": [
    {
     "data": {
      "text/plain": [
       "0.9904031003319068"
      ]
     },
     "execution_count": 21,
     "metadata": {},
     "output_type": "execute_result"
    }
   ],
   "source": [
    "e.max()"
   ]
  },
  {
   "cell_type": "code",
   "execution_count": 22,
   "id": "91e7493a",
   "metadata": {},
   "outputs": [
    {
     "data": {
      "text/plain": [
       "0.0005993679838223187"
      ]
     },
     "execution_count": 22,
     "metadata": {},
     "output_type": "execute_result"
    }
   ],
   "source": [
    "e.min()"
   ]
  },
  {
   "cell_type": "code",
   "execution_count": 25,
   "id": "2d2c2f24",
   "metadata": {},
   "outputs": [],
   "source": [
    "#6. Create a random vector of size 30 and find the mean value.\n",
    "f=np.random.rand(30)"
   ]
  },
  {
   "cell_type": "code",
   "execution_count": 26,
   "id": "69d6056f",
   "metadata": {},
   "outputs": [
    {
     "data": {
      "text/plain": [
       "array([0.54835513, 0.75499868, 0.89867202, 0.23467964, 0.66642482,\n",
       "       0.39271972, 0.96075876, 0.1355262 , 0.15461663, 0.44695071,\n",
       "       0.39654132, 0.15211726, 0.10889099, 0.34195755, 0.05909095,\n",
       "       0.81459679, 0.75033883, 0.18141679, 0.01979132, 0.19342987,\n",
       "       0.64923977, 0.5310329 , 0.97375507, 0.80733486, 0.28894428,\n",
       "       0.00705169, 0.52188165, 0.03629181, 0.13514965, 0.26866028])"
      ]
     },
     "execution_count": 26,
     "metadata": {},
     "output_type": "execute_result"
    }
   ],
   "source": [
    "f"
   ]
  },
  {
   "cell_type": "code",
   "execution_count": 27,
   "id": "0e86fafa",
   "metadata": {},
   "outputs": [
    {
     "data": {
      "text/plain": [
       "0.41437386441748536"
      ]
     },
     "execution_count": 27,
     "metadata": {},
     "output_type": "execute_result"
    }
   ],
   "source": [
    "f.mean()"
   ]
  },
  {
   "cell_type": "code",
   "execution_count": null,
   "id": "3611541c",
   "metadata": {},
   "outputs": [],
   "source": []
  }
 ],
 "metadata": {
  "kernelspec": {
   "display_name": "Python 3 (ipykernel)",
   "language": "python",
   "name": "python3"
  },
  "language_info": {
   "codemirror_mode": {
    "name": "ipython",
    "version": 3
   },
   "file_extension": ".py",
   "mimetype": "text/x-python",
   "name": "python",
   "nbconvert_exporter": "python",
   "pygments_lexer": "ipython3",
   "version": "3.9.12"
  }
 },
 "nbformat": 4,
 "nbformat_minor": 5
}
